{
 "cells": [
  {
   "cell_type": "code",
   "execution_count": 1,
   "id": "4b5ab737",
   "metadata": {},
   "outputs": [
    {
     "name": "stdout",
     "output_type": "stream",
     "text": [
      "      TransactionDate  DayOfWeek  Hour  IsWeekend\n",
      "0 2025-02-05 14:30:00          2    14          0\n",
      "1 2025-02-06 18:45:00          3    18          0\n"
     ]
    }
   ],
   "source": [
    "\n",
    "#Extract Date & Time Features\n",
    "import pandas as pd\n",
    "# Sample dataset\n",
    "df = pd.DataFrame({ 'TransactionDate': pd.to_datetime(['2025-02-05 14:30:00', '2025-02-06 18:45:00'])})\n",
    "# Extract date-related features\n",
    "df['DayOfWeek'] = df['TransactionDate'].dt.dayofweek # Monday=0, Sunday=6\n",
    "df['Hour']=df[ 'TransactionDate'].dt.hour # Extract hour\n",
    "df['IsWeekend'] = df['DayOfWeek'].apply(lambda x: 1 if x >= 5 else 0) # Weekend flag\n",
    "print(df)\n",
    "\n",
    "#Why? Helps capture behavioral trends (e.g., shopping habits on weekends vs. weekdays)."
   ]
  },
  {
   "cell_type": "code",
   "execution_count": 8,
   "id": "ed3f73d5",
   "metadata": {},
   "outputs": [
    {
     "name": "stdout",
     "output_type": "stream",
     "text": [
      "   UserID  AvgTransactionAmount\n",
      "0     101                 600.0\n",
      "1     102                 350.0\n",
      "2     103                1000.0\n"
     ]
    }
   ],
   "source": [
    "#Aggregated Features\n",
    "#Find average transaction amount per user:\n",
    "df_transactions = pd.DataFrame({\n",
    "'UserID': [101, 102, 101, 103, 102],\n",
    "'TransactionAmount': [500, 300, 700, 1000, 400]\n",
    "})\n",
    "df_user_avg = df_transactions.groupby('UserID')['TransactionAmount'].mean().reset_index()\n",
    "df_user_avg.rename(columns={ 'TransactionAmount': 'AvgTransactionAmount'}, inplace=True)\n",
    "\n",
    "print(df_user_avg)\n",
    "#Why? Identifies high-value customers and spending patterns."
   ]
  },
  {
   "cell_type": "code",
   "execution_count": 11,
   "id": "357db9fe",
   "metadata": {},
   "outputs": [
    {
     "name": "stdout",
     "output_type": "stream",
     "text": [
      "   ProductCategory_Clothing  ProductCategory_Electronics  \\\n",
      "0                       0.0                          1.0   \n",
      "1                       1.0                          0.0   \n",
      "2                       1.0                          0.0   \n",
      "3                       0.0                          0.0   \n",
      "\n",
      "   ProductCategory_Grocery  \n",
      "0                      0.0  \n",
      "1                      0.0  \n",
      "2                      0.0  \n",
      "3                      1.0  \n"
     ]
    }
   ],
   "source": [
    "import pandas as pd\n",
    "from sklearn.preprocessing import OneHotEncoder\n",
    "\n",
    "# Sample DataFrame\n",
    "df = pd.DataFrame({'ProductCategory': ['Electronics', 'Clothing', 'Clothing', 'Grocery']})\n",
    "\n",
    "# Instantiate the OneHotEncoder (use sparse_output instead of sparse)\n",
    "encoder = OneHotEncoder(sparse_output=False)\n",
    "\n",
    "# Fit and transform the data\n",
    "encoded_features = encoder.fit_transform(df[['ProductCategory']])\n",
    "\n",
    "# Convert the result to a DataFrame with the appropriate column names\n",
    "df_encoded = pd.DataFrame(encoded_features, columns=encoder.get_feature_names_out())\n",
    "\n",
    "# Display the result\n",
    "print(df_encoded)\n"
   ]
  },
  {
   "cell_type": "code",
   "execution_count": null,
   "id": "a46577ee",
   "metadata": {},
   "outputs": [],
   "source": []
  }
 ],
 "metadata": {
  "kernelspec": {
   "display_name": "Python 3 (ipykernel)",
   "language": "python",
   "name": "python3"
  },
  "language_info": {
   "codemirror_mode": {
    "name": "ipython",
    "version": 3
   },
   "file_extension": ".py",
   "mimetype": "text/x-python",
   "name": "python",
   "nbconvert_exporter": "python",
   "pygments_lexer": "ipython3",
   "version": "3.11.5"
  }
 },
 "nbformat": 4,
 "nbformat_minor": 5
}
